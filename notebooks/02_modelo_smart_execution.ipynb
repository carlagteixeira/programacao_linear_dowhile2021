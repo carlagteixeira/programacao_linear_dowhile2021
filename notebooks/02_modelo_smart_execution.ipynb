{
 "cells": [
  {
   "cell_type": "markdown",
   "metadata": {},
   "source": [
    "# Redução de Lojas Com Ruptura"
   ]
  },
  {
   "cell_type": "markdown",
   "metadata": {},
   "source": [
    "O modelo visa reduzir a quantidade de lojas com possíveis rupturas"
   ]
  },
  {
   "cell_type": "markdown",
   "metadata": {},
   "source": [
    "## Importando modulos"
   ]
  },
  {
   "cell_type": "code",
   "execution_count": 1,
   "metadata": {
    "ExecuteTime": {
     "end_time": "2021-11-24T13:08:34.263930Z",
     "start_time": "2021-11-24T13:08:19.901116Z"
    }
   },
   "outputs": [],
   "source": [
    "import pandas as pd\n",
    "import numpy as np\n",
    "import pyomo.environ as pyo"
   ]
  },
  {
   "cell_type": "markdown",
   "metadata": {},
   "source": [
    "## Lendo inputs"
   ]
  },
  {
   "cell_type": "code",
   "execution_count": 2,
   "metadata": {
    "ExecuteTime": {
     "end_time": "2021-11-24T13:08:34.272936Z",
     "start_time": "2021-11-24T13:08:34.268937Z"
    }
   },
   "outputs": [],
   "source": [
    "input_file = \"../data/data_smart_execution.xlsx\""
   ]
  },
  {
   "cell_type": "markdown",
   "metadata": {},
   "source": [
    "### Lojas"
   ]
  },
  {
   "cell_type": "code",
   "execution_count": 3,
   "metadata": {
    "ExecuteTime": {
     "end_time": "2021-11-24T13:08:34.395929Z",
     "start_time": "2021-11-24T13:08:34.278946Z"
    }
   },
   "outputs": [
    {
     "data": {
      "text/plain": [
       "0    A\n",
       "1    B\n",
       "2    C\n",
       "3    D\n",
       "4    E\n",
       "Name: LOJA, dtype: object"
      ]
     },
     "execution_count": 3,
     "metadata": {},
     "output_type": "execute_result"
    }
   ],
   "source": [
    "sheet_lojas = pd.read_excel(input_file, sheet_name=\"LOJA\")\n",
    "sheet_lojas['LOJA'].head()"
   ]
  },
  {
   "cell_type": "markdown",
   "metadata": {},
   "source": [
    "### Disponibilidade de SKUs"
   ]
  },
  {
   "cell_type": "code",
   "execution_count": 4,
   "metadata": {
    "ExecuteTime": {
     "end_time": "2021-11-24T13:08:34.486003Z",
     "start_time": "2021-11-24T13:08:34.410476Z"
    }
   },
   "outputs": [
    {
     "data": {
      "text/html": [
       "<div>\n",
       "<style scoped>\n",
       "    .dataframe tbody tr th:only-of-type {\n",
       "        vertical-align: middle;\n",
       "    }\n",
       "\n",
       "    .dataframe tbody tr th {\n",
       "        vertical-align: top;\n",
       "    }\n",
       "\n",
       "    .dataframe thead th {\n",
       "        text-align: right;\n",
       "    }\n",
       "</style>\n",
       "<table border=\"1\" class=\"dataframe\">\n",
       "  <thead>\n",
       "    <tr style=\"text-align: right;\">\n",
       "      <th></th>\n",
       "      <th>SKU</th>\n",
       "      <th>QUANTIDADE_DISPONIVEL</th>\n",
       "    </tr>\n",
       "  </thead>\n",
       "  <tbody>\n",
       "    <tr>\n",
       "      <th>0</th>\n",
       "      <td>Mimmo Plus Suave</td>\n",
       "      <td>250</td>\n",
       "    </tr>\n",
       "    <tr>\n",
       "      <th>1</th>\n",
       "      <td>Report Premium</td>\n",
       "      <td>150</td>\n",
       "    </tr>\n",
       "  </tbody>\n",
       "</table>\n",
       "</div>"
      ],
      "text/plain": [
       "                SKU  QUANTIDADE_DISPONIVEL\n",
       "0  Mimmo Plus Suave                    250\n",
       "1    Report Premium                    150"
      ]
     },
     "execution_count": 4,
     "metadata": {},
     "output_type": "execute_result"
    }
   ],
   "source": [
    "sheet_disponibilidade_sku = pd.read_excel(input_file, sheet_name=\"DISPONIBILIDADE_SKU\")\n",
    "sheet_disponibilidade_sku.head()"
   ]
  },
  {
   "cell_type": "markdown",
   "metadata": {},
   "source": [
    "### Lojas x SKUs"
   ]
  },
  {
   "cell_type": "code",
   "execution_count": 5,
   "metadata": {
    "ExecuteTime": {
     "end_time": "2021-11-24T13:08:34.569000Z",
     "start_time": "2021-11-24T13:08:34.490003Z"
    }
   },
   "outputs": [
    {
     "data": {
      "text/html": [
       "<div>\n",
       "<style scoped>\n",
       "    .dataframe tbody tr th:only-of-type {\n",
       "        vertical-align: middle;\n",
       "    }\n",
       "\n",
       "    .dataframe tbody tr th {\n",
       "        vertical-align: top;\n",
       "    }\n",
       "\n",
       "    .dataframe thead th {\n",
       "        text-align: right;\n",
       "    }\n",
       "</style>\n",
       "<table border=\"1\" class=\"dataframe\">\n",
       "  <thead>\n",
       "    <tr style=\"text-align: right;\">\n",
       "      <th></th>\n",
       "      <th>LOJA</th>\n",
       "      <th>SKU</th>\n",
       "      <th>CAPACIDADE_MAXIMA</th>\n",
       "      <th>PROBABILIDADE_ACEITAVEL</th>\n",
       "    </tr>\n",
       "  </thead>\n",
       "  <tbody>\n",
       "    <tr>\n",
       "      <th>0</th>\n",
       "      <td>A</td>\n",
       "      <td>Mimmo Plus Suave</td>\n",
       "      <td>53</td>\n",
       "      <td>0.33</td>\n",
       "    </tr>\n",
       "    <tr>\n",
       "      <th>1</th>\n",
       "      <td>C</td>\n",
       "      <td>Mimmo Plus Suave</td>\n",
       "      <td>80</td>\n",
       "      <td>0.40</td>\n",
       "    </tr>\n",
       "    <tr>\n",
       "      <th>2</th>\n",
       "      <td>D</td>\n",
       "      <td>Mimmo Plus Suave</td>\n",
       "      <td>20</td>\n",
       "      <td>0.11</td>\n",
       "    </tr>\n",
       "    <tr>\n",
       "      <th>3</th>\n",
       "      <td>E</td>\n",
       "      <td>Mimmo Plus Suave</td>\n",
       "      <td>55</td>\n",
       "      <td>0.49</td>\n",
       "    </tr>\n",
       "    <tr>\n",
       "      <th>4</th>\n",
       "      <td>F</td>\n",
       "      <td>Mimmo Plus Suave</td>\n",
       "      <td>40</td>\n",
       "      <td>0.32</td>\n",
       "    </tr>\n",
       "  </tbody>\n",
       "</table>\n",
       "</div>"
      ],
      "text/plain": [
       "  LOJA               SKU  CAPACIDADE_MAXIMA  PROBABILIDADE_ACEITAVEL\n",
       "0    A  Mimmo Plus Suave                 53                     0.33\n",
       "1    C  Mimmo Plus Suave                 80                     0.40\n",
       "2    D  Mimmo Plus Suave                 20                     0.11\n",
       "3    E  Mimmo Plus Suave                 55                     0.49\n",
       "4    F  Mimmo Plus Suave                 40                     0.32"
      ]
     },
     "execution_count": 5,
     "metadata": {},
     "output_type": "execute_result"
    }
   ],
   "source": [
    "sheet_loja_x_sku = pd.read_excel(input_file, sheet_name=\"LOJA_SKU\")\n",
    "sheet_loja_x_sku.head()"
   ]
  },
  {
   "cell_type": "markdown",
   "metadata": {},
   "source": [
    "### Probabilidade de Ruptura do SKU na Loja"
   ]
  },
  {
   "cell_type": "code",
   "execution_count": 6,
   "metadata": {
    "ExecuteTime": {
     "end_time": "2021-11-24T13:08:34.703660Z",
     "start_time": "2021-11-24T13:08:34.571999Z"
    }
   },
   "outputs": [
    {
     "data": {
      "text/html": [
       "<div>\n",
       "<style scoped>\n",
       "    .dataframe tbody tr th:only-of-type {\n",
       "        vertical-align: middle;\n",
       "    }\n",
       "\n",
       "    .dataframe tbody tr th {\n",
       "        vertical-align: top;\n",
       "    }\n",
       "\n",
       "    .dataframe thead th {\n",
       "        text-align: right;\n",
       "    }\n",
       "</style>\n",
       "<table border=\"1\" class=\"dataframe\">\n",
       "  <thead>\n",
       "    <tr style=\"text-align: right;\">\n",
       "      <th></th>\n",
       "      <th>LOJA</th>\n",
       "      <th>SKU</th>\n",
       "      <th>NIVEL_RUPTURA</th>\n",
       "      <th>QUANTIDADE_ESTOCADA</th>\n",
       "      <th>PROBABILIDADE_DE_RUPTURA</th>\n",
       "    </tr>\n",
       "  </thead>\n",
       "  <tbody>\n",
       "    <tr>\n",
       "      <th>0</th>\n",
       "      <td>A</td>\n",
       "      <td>Mimmo Plus Suave</td>\n",
       "      <td>1</td>\n",
       "      <td>5</td>\n",
       "      <td>0.92</td>\n",
       "    </tr>\n",
       "    <tr>\n",
       "      <th>1</th>\n",
       "      <td>A</td>\n",
       "      <td>Mimmo Plus Suave</td>\n",
       "      <td>2</td>\n",
       "      <td>13</td>\n",
       "      <td>0.81</td>\n",
       "    </tr>\n",
       "    <tr>\n",
       "      <th>2</th>\n",
       "      <td>A</td>\n",
       "      <td>Mimmo Plus Suave</td>\n",
       "      <td>3</td>\n",
       "      <td>26</td>\n",
       "      <td>0.62</td>\n",
       "    </tr>\n",
       "    <tr>\n",
       "      <th>3</th>\n",
       "      <td>A</td>\n",
       "      <td>Mimmo Plus Suave</td>\n",
       "      <td>4</td>\n",
       "      <td>39</td>\n",
       "      <td>0.32</td>\n",
       "    </tr>\n",
       "    <tr>\n",
       "      <th>4</th>\n",
       "      <td>A</td>\n",
       "      <td>Mimmo Plus Suave</td>\n",
       "      <td>5</td>\n",
       "      <td>50</td>\n",
       "      <td>0.22</td>\n",
       "    </tr>\n",
       "  </tbody>\n",
       "</table>\n",
       "</div>"
      ],
      "text/plain": [
       "  LOJA               SKU  NIVEL_RUPTURA  QUANTIDADE_ESTOCADA  \\\n",
       "0    A  Mimmo Plus Suave              1                    5   \n",
       "1    A  Mimmo Plus Suave              2                   13   \n",
       "2    A  Mimmo Plus Suave              3                   26   \n",
       "3    A  Mimmo Plus Suave              4                   39   \n",
       "4    A  Mimmo Plus Suave              5                   50   \n",
       "\n",
       "   PROBABILIDADE_DE_RUPTURA  \n",
       "0                      0.92  \n",
       "1                      0.81  \n",
       "2                      0.62  \n",
       "3                      0.32  \n",
       "4                      0.22  "
      ]
     },
     "execution_count": 6,
     "metadata": {},
     "output_type": "execute_result"
    }
   ],
   "source": [
    "sheet_prob_ruptura = pd.read_excel(input_file, sheet_name=\"PROB_RUPTURA\")\n",
    "sheet_prob_ruptura.head()"
   ]
  },
  {
   "cell_type": "markdown",
   "metadata": {},
   "source": [
    "## Modelo\n"
   ]
  },
  {
   "cell_type": "code",
   "execution_count": 7,
   "metadata": {
    "ExecuteTime": {
     "end_time": "2021-11-24T13:08:34.725000Z",
     "start_time": "2021-11-24T13:08:34.720003Z"
    }
   },
   "outputs": [],
   "source": [
    "model = pyo.ConcreteModel()"
   ]
  },
  {
   "cell_type": "markdown",
   "metadata": {},
   "source": [
    "### Sets"
   ]
  },
  {
   "cell_type": "code",
   "execution_count": 8,
   "metadata": {
    "ExecuteTime": {
     "end_time": "2021-11-24T13:08:34.741999Z",
     "start_time": "2021-11-24T13:08:34.736003Z"
    }
   },
   "outputs": [],
   "source": [
    "lista_lojas = sheet_lojas[\"LOJA\"].unique()\n",
    "model.lojas = pyo.Set(initialize=lista_lojas, doc=\"Lista de lojas\")"
   ]
  },
  {
   "cell_type": "code",
   "execution_count": 9,
   "metadata": {
    "ExecuteTime": {
     "end_time": "2021-11-24T13:08:34.755999Z",
     "start_time": "2021-11-24T13:08:34.746999Z"
    }
   },
   "outputs": [],
   "source": [
    "lista_skus = sheet_disponibilidade_sku[\"SKU\"].unique()\n",
    "model.skus = pyo.Set(initialize=lista_skus, doc=\"Lista de SKUs\")"
   ]
  },
  {
   "cell_type": "code",
   "execution_count": 10,
   "metadata": {
    "ExecuteTime": {
     "end_time": "2021-11-24T13:08:34.779000Z",
     "start_time": "2021-11-24T13:08:34.760999Z"
    }
   },
   "outputs": [],
   "source": [
    "lista_loja_x_sku = [\n",
    "    (row[\"LOJA\"], row[\"SKU\"]) for index, row in sheet_loja_x_sku.iterrows()\n",
    "]\n",
    "model.loja_x_sku = pyo.Set(\n",
    "    initialize=lista_loja_x_sku, doc=\"Lista de lojas por skus\"\n",
    ")"
   ]
  },
  {
   "cell_type": "code",
   "execution_count": 11,
   "metadata": {
    "ExecuteTime": {
     "end_time": "2021-11-24T13:08:34.790000Z",
     "start_time": "2021-11-24T13:08:34.784998Z"
    }
   },
   "outputs": [],
   "source": [
    "lista_niveis_ruptura = sheet_prob_ruptura[\"NIVEL_RUPTURA\"].unique()\n",
    "model.niveis_ruptura = pyo.Set(\n",
    "    initialize=lista_niveis_ruptura, doc=\"Lista de niveis de ruptura\"\n",
    ")"
   ]
  },
  {
   "cell_type": "code",
   "execution_count": 12,
   "metadata": {
    "ExecuteTime": {
     "end_time": "2021-11-24T13:08:34.851000Z",
     "start_time": "2021-11-24T13:08:34.792997Z"
    }
   },
   "outputs": [],
   "source": [
    "lista_loja_x_sku_x_niveis_ruptura = [\n",
    "    (row[\"LOJA\"], row[\"SKU\"], row[\"NIVEL_RUPTURA\"]) for index, row in sheet_prob_ruptura.iterrows()\n",
    "]\n",
    "model.loja_x_sku_x_niveis_ruptura = pyo.Set(\n",
    "    initialize=lista_loja_x_sku_x_niveis_ruptura, doc=\"Lista lojas por produto e niveis de ruptura\"\n",
    ")"
   ]
  },
  {
   "cell_type": "markdown",
   "metadata": {},
   "source": [
    "### Parâmetros"
   ]
  },
  {
   "cell_type": "code",
   "execution_count": 13,
   "metadata": {
    "ExecuteTime": {
     "end_time": "2021-11-24T13:08:34.861999Z",
     "start_time": "2021-11-24T13:08:34.854999Z"
    }
   },
   "outputs": [],
   "source": [
    "def dataframe_to_dict(df, index_cols, value_col):\n",
    "    all_cols = index_cols.copy()\n",
    "    all_cols.append(value_col)\n",
    "\n",
    "    return df[all_cols].set_index(index_cols).to_dict()[value_col]"
   ]
  },
  {
   "cell_type": "code",
   "execution_count": 14,
   "metadata": {
    "ExecuteTime": {
     "end_time": "2021-11-24T13:08:34.882528Z",
     "start_time": "2021-11-24T13:08:34.871536Z"
    }
   },
   "outputs": [],
   "source": [
    "disponibilidade_dict = dataframe_to_dict(sheet_disponibilidade_sku, index_cols=[\"SKU\"], value_col=\"QUANTIDADE_DISPONIVEL\")\n",
    "\n",
    "model.disponibilidade = pyo.Param(\n",
    "    model.skus,\n",
    "    initialize=disponibilidade_dict,\n",
    "    within=pyo.NonNegativeReals,\n",
    "    doc=\"disponibilidade de skus\",\n",
    ")"
   ]
  },
  {
   "cell_type": "code",
   "execution_count": 15,
   "metadata": {
    "ExecuteTime": {
     "end_time": "2021-11-24T13:08:34.922526Z",
     "start_time": "2021-11-24T13:08:34.886531Z"
    }
   },
   "outputs": [],
   "source": [
    "capacidade_maxima_dict = dataframe_to_dict(\n",
    "    sheet_loja_x_sku, index_cols=[\"LOJA\", \"SKU\"], value_col=\"CAPACIDADE_MAXIMA\"\n",
    ")\n",
    "\n",
    "model.capacidade_maxima = pyo.Param(\n",
    "    model.lojas,\n",
    "    model.skus,\n",
    "    initialize=capacidade_maxima_dict,\n",
    "    within=pyo.NonNegativeReals,\n",
    "    doc=\"capacidade maxima da loja\",\n",
    ")"
   ]
  },
  {
   "cell_type": "code",
   "execution_count": 16,
   "metadata": {
    "ExecuteTime": {
     "end_time": "2021-11-24T13:08:34.947527Z",
     "start_time": "2021-11-24T13:08:34.931525Z"
    }
   },
   "outputs": [],
   "source": [
    "prob_min_aceitavel_dict = dataframe_to_dict(\n",
    "    sheet_loja_x_sku, index_cols=[\"LOJA\", \"SKU\"], value_col=\"PROBABILIDADE_ACEITAVEL\"\n",
    ")\n",
    "\n",
    "model.prob_min_aceitavel = pyo.Param(\n",
    "    model.lojas,\n",
    "    model.skus,\n",
    "    initialize=prob_min_aceitavel_dict,\n",
    "    within=pyo.NonNegativeReals,\n",
    "    doc=\"probabilidade minima aceitavel para nao ruptura\",\n",
    ")"
   ]
  },
  {
   "cell_type": "code",
   "execution_count": 17,
   "metadata": {
    "ExecuteTime": {
     "end_time": "2021-11-24T13:08:34.978602Z",
     "start_time": "2021-11-24T13:08:34.951528Z"
    }
   },
   "outputs": [],
   "source": [
    "nivel_estoque_dict = dataframe_to_dict(\n",
    "    sheet_prob_ruptura,\n",
    "    index_cols=[\"LOJA\", \"SKU\", \"NIVEL_RUPTURA\"],\n",
    "    value_col=\"QUANTIDADE_ESTOCADA\",\n",
    ")\n",
    "\n",
    "model.nivel_estoque = pyo.Param(\n",
    "    model.loja_x_sku_x_niveis_ruptura,\n",
    "    initialize=nivel_estoque_dict,\n",
    "    within=pyo.NonNegativeReals,\n",
    "    doc=\"niveis de estoque e ruptura associada\",\n",
    ")"
   ]
  },
  {
   "cell_type": "code",
   "execution_count": 18,
   "metadata": {
    "ExecuteTime": {
     "end_time": "2021-11-24T13:08:35.001524Z",
     "start_time": "2021-11-24T13:08:34.984525Z"
    }
   },
   "outputs": [],
   "source": [
    "prob_ruptura_sku_dict = dataframe_to_dict(\n",
    "    sheet_prob_ruptura,\n",
    "    index_cols=[\"LOJA\", \"SKU\", \"NIVEL_RUPTURA\"],\n",
    "    value_col=\"PROBABILIDADE_DE_RUPTURA\",\n",
    ")\n",
    "\n",
    "model.prob_ruptura_sku = pyo.Param(\n",
    "    model.loja_x_sku_x_niveis_ruptura,\n",
    "    initialize=prob_ruptura_sku_dict,\n",
    "    within=pyo.NonNegativeReals,\n",
    "    doc=\"prob ruptura do produto por nivel de estoque\",\n",
    ")"
   ]
  },
  {
   "cell_type": "markdown",
   "metadata": {},
   "source": [
    "### Variáveis"
   ]
  },
  {
   "cell_type": "code",
   "execution_count": 19,
   "metadata": {
    "ExecuteTime": {
     "end_time": "2021-11-24T13:08:35.016528Z",
     "start_time": "2021-11-24T13:08:35.009524Z"
    }
   },
   "outputs": [],
   "source": [
    "model.QTD_SKU = pyo.Var(\n",
    "    model.loja_x_sku,\n",
    "    within=pyo.Integers,\n",
    "    doc=\"variavel que define a quantidade de sku no estoque\",\n",
    ")"
   ]
  },
  {
   "cell_type": "code",
   "execution_count": 20,
   "metadata": {
    "ExecuteTime": {
     "end_time": "2021-11-24T13:08:35.030528Z",
     "start_time": "2021-11-24T13:08:35.024525Z"
    }
   },
   "outputs": [],
   "source": [
    "model.RUPTURA_SKU = pyo.Var(\n",
    "    model.loja_x_sku,\n",
    "    within=pyo.NonNegativeReals,\n",
    "    doc=\"variavel que indica o nivel de ruptura do sku\",\n",
    ")"
   ]
  },
  {
   "cell_type": "code",
   "execution_count": 21,
   "metadata": {
    "ExecuteTime": {
     "end_time": "2021-11-24T13:08:35.045529Z",
     "start_time": "2021-11-24T13:08:35.037531Z"
    }
   },
   "outputs": [],
   "source": [
    "model.RUPTURA_LOJA_SKU = pyo.Var(\n",
    "    model.loja_x_sku,\n",
    "    within=pyo.Binary,\n",
    "    doc=\"variavel binaria que indica se houve ruptura do produto na loja\",\n",
    ")"
   ]
  },
  {
   "cell_type": "code",
   "execution_count": 22,
   "metadata": {
    "ExecuteTime": {
     "end_time": "2021-11-24T13:08:35.056527Z",
     "start_time": "2021-11-24T13:08:35.051530Z"
    }
   },
   "outputs": [],
   "source": [
    "model.RUPTURA_LOJA = pyo.Var(\n",
    "    model.lojas, within=pyo.Binary, doc=\"variavel binaria que indica se houve ruptura na loja\"\n",
    ")"
   ]
  },
  {
   "cell_type": "code",
   "execution_count": 23,
   "metadata": {
    "ExecuteTime": {
     "end_time": "2021-11-24T13:08:35.077526Z",
     "start_time": "2021-11-24T13:08:35.067525Z"
    }
   },
   "outputs": [],
   "source": [
    "model.NIVEL_SKU = pyo.Var(\n",
    "    model.loja_x_sku_x_niveis_ruptura,\n",
    "    within=pyo.Binary,\n",
    "    doc=\"variavel que indica o nivel do estoque\",\n",
    ")"
   ]
  },
  {
   "cell_type": "code",
   "execution_count": 24,
   "metadata": {
    "ExecuteTime": {
     "end_time": "2021-11-24T13:08:35.099527Z",
     "start_time": "2021-11-24T13:08:35.093531Z"
    }
   },
   "outputs": [],
   "source": [
    "model.LAMBDA = pyo.Var(\n",
    "    model.loja_x_sku_x_niveis_ruptura,\n",
    "    within=pyo.NonNegativeReals,\n",
    "    doc=\"variavel que auxilia na linearizacao por partes\",\n",
    ")"
   ]
  },
  {
   "cell_type": "markdown",
   "metadata": {},
   "source": [
    "### Restrições"
   ]
  },
  {
   "cell_type": "markdown",
   "metadata": {},
   "source": [
    "Respeita a capacidade do estoque de cada loja (redundante pois os niveis garantem que não ultrapassa a capacidade do estoque)"
   ]
  },
  {
   "cell_type": "code",
   "execution_count": 25,
   "metadata": {
    "ExecuteTime": {
     "end_time": "2021-11-24T13:08:35.124527Z",
     "start_time": "2021-11-24T13:08:35.103526Z"
    }
   },
   "outputs": [],
   "source": [
    "def _estoque_maximo(model, loja, sku):\n",
    "    eq = (\n",
    "        sum(\n",
    "            model.NIVEL_SKU[(loja, sku, nivel_ruptura)]\n",
    "            * model.nivel_estoque[(loja, sku, nivel_ruptura)]\n",
    "            for nivel_ruptura in model.niveis_ruptura\n",
    "        )\n",
    "        <= model.capacidade_maxima[(loja, sku)]\n",
    "    )\n",
    "    return eq\n",
    "\n",
    "\n",
    "model.estoque_maximo = pyo.Constraint(model.loja_x_sku, rule=_estoque_maximo)"
   ]
  },
  {
   "cell_type": "markdown",
   "metadata": {},
   "source": [
    "calcula o estoque de acordo com o nível selecionado"
   ]
  },
  {
   "cell_type": "code",
   "execution_count": 26,
   "metadata": {
    "ExecuteTime": {
     "end_time": "2021-11-24T13:08:35.146561Z",
     "start_time": "2021-11-24T13:08:35.128525Z"
    }
   },
   "outputs": [],
   "source": [
    "def _quantidade_sku(model, loja, sku):\n",
    "    eq = (\n",
    "        sum(\n",
    "            model.LAMBDA[(loja, sku, nivel_ruptura)]\n",
    "            * model.nivel_estoque[(loja, sku, nivel_ruptura)]\n",
    "            for nivel_ruptura in model.niveis_ruptura\n",
    "        )\n",
    "        == model.QTD_SKU[(loja, sku)]\n",
    "    )\n",
    "    return eq\n",
    "\n",
    "\n",
    "model.quantidade_sku = pyo.Constraint(model.loja_x_sku, rule=_quantidade_sku)"
   ]
  },
  {
   "cell_type": "markdown",
   "metadata": {},
   "source": [
    "calcula o 'limite superior' da ruptura, considerando ruptura aceitavel"
   ]
  },
  {
   "cell_type": "code",
   "execution_count": 27,
   "metadata": {
    "ExecuteTime": {
     "end_time": "2021-11-24T13:08:35.164541Z",
     "start_time": "2021-11-24T13:08:35.154525Z"
    }
   },
   "outputs": [],
   "source": [
    "def _ruptura_sku(model, loja, sku):\n",
    "    eq = (\n",
    "        sum(\n",
    "            model.LAMBDA[(loja, sku, nivel_ruptura)]\n",
    "            * model.prob_ruptura_sku[(loja, sku, nivel_ruptura)]\n",
    "            for nivel_ruptura in model.niveis_ruptura\n",
    "        )\n",
    "        == model.RUPTURA_SKU[(loja, sku)]\n",
    "    )\n",
    "    return eq\n",
    "\n",
    "\n",
    "model.ruptura_sku = pyo.Constraint(model.loja_x_sku, rule=_ruptura_sku)"
   ]
  },
  {
   "cell_type": "markdown",
   "metadata": {},
   "source": [
    "respeita a disponibilidade de produtos"
   ]
  },
  {
   "cell_type": "code",
   "execution_count": 28,
   "metadata": {
    "ExecuteTime": {
     "end_time": "2021-11-24T13:08:35.181525Z",
     "start_time": "2021-11-24T13:08:35.171547Z"
    }
   },
   "outputs": [],
   "source": [
    "def _limite_disponibilidade(model, sku):\n",
    "    eq = (\n",
    "        sum(\n",
    "            model.QTD_SKU[(loja, sku)]\n",
    "            for (loja, _sku) in model.loja_x_sku\n",
    "            if (_sku == sku)\n",
    "        )\n",
    "        <= model.disponibilidade[sku]\n",
    "    )\n",
    "    return eq\n",
    "\n",
    "\n",
    "model.availability_limit = pyo.Constraint(model.skus, rule=_limite_disponibilidade)"
   ]
  },
  {
   "cell_type": "markdown",
   "metadata": {},
   "source": [
    "no maximo um nível por loja e produto"
   ]
  },
  {
   "cell_type": "code",
   "execution_count": 29,
   "metadata": {
    "ExecuteTime": {
     "end_time": "2021-11-24T13:08:35.196523Z",
     "start_time": "2021-11-24T13:08:35.187525Z"
    }
   },
   "outputs": [],
   "source": [
    "def _max_nivel(model, loja, sku):\n",
    "    eq = (\n",
    "        sum(\n",
    "            model.NIVEL_SKU[(loja, sku, nivel_ruptura)]\n",
    "            for nivel_ruptura in model.niveis_ruptura\n",
    "        )\n",
    "        == 1\n",
    "    )\n",
    "    return eq\n",
    "\n",
    "\n",
    "model.max_nivel = pyo.Constraint(model.loja_x_sku, rule=_max_nivel)"
   ]
  },
  {
   "cell_type": "code",
   "execution_count": 30,
   "metadata": {
    "ExecuteTime": {
     "end_time": "2021-11-24T13:08:35.221528Z",
     "start_time": "2021-11-24T13:08:35.203528Z"
    }
   },
   "outputs": [],
   "source": [
    "def _max_lambda(model, loja, sku):\n",
    "    eq = (\n",
    "        sum(\n",
    "            model.LAMBDA[(loja, sku, nivel_ruptura)]\n",
    "            for nivel_ruptura in model.niveis_ruptura\n",
    "        )\n",
    "        == 1\n",
    "    )\n",
    "    return eq\n",
    "\n",
    "\n",
    "model.max_lambda = pyo.Constraint(model.loja_x_sku, rule=_max_lambda)"
   ]
  },
  {
   "cell_type": "markdown",
   "metadata": {},
   "source": [
    "força 1 nivel em cada sku"
   ]
  },
  {
   "cell_type": "code",
   "execution_count": 31,
   "metadata": {
    "ExecuteTime": {
     "end_time": "2021-11-24T13:08:35.243528Z",
     "start_time": "2021-11-24T13:08:35.225523Z"
    }
   },
   "outputs": [],
   "source": [
    "def _nivel_minimo(model, loja, sku, nivel_ruptura):\n",
    "    if nivel_ruptura == 1:\n",
    "        eq = (\n",
    "            model.LAMBDA[(loja, sku, nivel_ruptura)]\n",
    "            <= model.NIVEL_SKU[(loja, sku, nivel_ruptura)]\n",
    "        )\n",
    "        return eq\n",
    "    elif nivel_ruptura == 6:\n",
    "        eq = (\n",
    "            model.LAMBDA[(loja, sku, nivel_ruptura)]\n",
    "            <= model.NIVEL_SKU[(loja, sku, nivel_ruptura-1)]\n",
    "        )\n",
    "        return eq\n",
    "    else:\n",
    "        eq = (\n",
    "            model.LAMBDA[(loja, sku, nivel_ruptura)]\n",
    "            <= model.NIVEL_SKU[(loja, sku, nivel_ruptura)]\n",
    "            + model.NIVEL_SKU[(loja, sku, nivel_ruptura-1)]\n",
    "        )\n",
    "        return eq\n",
    "\n",
    "model.min_level = pyo.Constraint(model.loja_x_sku_x_niveis_ruptura, rule=_nivel_minimo)"
   ]
  },
  {
   "cell_type": "markdown",
   "metadata": {},
   "source": [
    "verifica se houve ruptura"
   ]
  },
  {
   "cell_type": "code",
   "execution_count": 32,
   "metadata": {
    "ExecuteTime": {
     "end_time": "2021-11-24T13:08:35.260521Z",
     "start_time": "2021-11-24T13:08:35.249525Z"
    }
   },
   "outputs": [],
   "source": [
    "def _houve_ruptura_sku(model, loja, sku):\n",
    "    eq = (\n",
    "        model.RUPTURA_SKU[(loja, sku)]\n",
    "        - model.prob_min_aceitavel[(loja, sku)]\n",
    "        <= model.RUPTURA_LOJA_SKU[(loja, sku)]\n",
    "    )\n",
    "    return eq\n",
    "\n",
    "model.houve_ruptura_sku = pyo.Constraint(model.loja_x_sku, rule=_houve_ruptura_sku)"
   ]
  },
  {
   "cell_type": "code",
   "execution_count": 33,
   "metadata": {
    "ExecuteTime": {
     "end_time": "2021-11-24T13:08:35.286528Z",
     "start_time": "2021-11-24T13:08:35.276526Z"
    }
   },
   "outputs": [],
   "source": [
    "def _houve_ruptura_loja(model, loja, sku):\n",
    "    eq = model.RUPTURA_LOJA[loja] >= model.RUPTURA_LOJA_SKU[(loja, sku)]\n",
    "    return eq\n",
    "\n",
    "\n",
    "model.houve_ruptura_loja = pyo.Constraint(model.loja_x_sku, rule=_houve_ruptura_loja)"
   ]
  },
  {
   "cell_type": "markdown",
   "metadata": {},
   "source": [
    "### Função Objetivo"
   ]
  },
  {
   "cell_type": "code",
   "execution_count": 34,
   "metadata": {
    "ExecuteTime": {
     "end_time": "2021-11-24T13:08:35.298526Z",
     "start_time": "2021-11-24T13:08:35.290525Z"
    }
   },
   "outputs": [],
   "source": [
    "def _fo(model):\n",
    "    #value = sum(model.RUPTURA_LOJA_SKU[(loja, sku)] for (loja, sku) in model.loja_x_sku)\n",
    "    value = sum(model.RUPTURA_LOJA[loja] for loja in model.lojas)\n",
    "    return value\n",
    "\n",
    "\n",
    "model.fo = pyo.Objective(rule=_fo)"
   ]
  },
  {
   "cell_type": "code",
   "execution_count": 35,
   "metadata": {
    "ExecuteTime": {
     "end_time": "2021-11-24T13:08:35.378525Z",
     "start_time": "2021-11-24T13:08:35.304525Z"
    }
   },
   "outputs": [
    {
     "data": {
      "text/plain": [
       "('smart_execution_model.lp', 2170575486872)"
      ]
     },
     "execution_count": 35,
     "metadata": {},
     "output_type": "execute_result"
    }
   ],
   "source": [
    "model.write(\"smart_execution_model.lp\", io_options={'symbolic_solver_labels': True})"
   ]
  },
  {
   "cell_type": "markdown",
   "metadata": {},
   "source": [
    "### Solve"
   ]
  },
  {
   "cell_type": "code",
   "execution_count": 36,
   "metadata": {
    "ExecuteTime": {
     "end_time": "2021-11-24T13:08:36.222058Z",
     "start_time": "2021-11-24T13:08:35.386525Z"
    }
   },
   "outputs": [],
   "source": [
    "opt = pyo.SolverFactory('glpk', executable='..\\\\glpk-4.65\\\\w64\\\\glpsol.exe')\n",
    "results = opt.solve(model)"
   ]
  },
  {
   "cell_type": "code",
   "execution_count": 37,
   "metadata": {
    "ExecuteTime": {
     "end_time": "2021-11-24T13:08:36.253055Z",
     "start_time": "2021-11-24T13:08:36.227052Z"
    }
   },
   "outputs": [
    {
     "name": "stdout",
     "output_type": "stream",
     "text": [
      "# ==========================================================\n",
      "# = Solver Results                                         =\n",
      "# ==========================================================\n",
      "# ----------------------------------------------------------\n",
      "#   Problem Information\n",
      "# ----------------------------------------------------------\n",
      "Problem: \n",
      "- Name: unknown\n",
      "  Lower bound: 3.0\n",
      "  Upper bound: 3.0\n",
      "  Number of objectives: 1\n",
      "  Number of constraints: 185\n",
      "  Number of variables: 219\n",
      "  Number of nonzeros: 743\n",
      "  Sense: minimize\n",
      "# ----------------------------------------------------------\n",
      "#   Solver Information\n",
      "# ----------------------------------------------------------\n",
      "Solver: \n",
      "- Status: ok\n",
      "  Termination condition: optimal\n",
      "  Statistics: \n",
      "    Branch and bound: \n",
      "      Number of bounded subproblems: 955\n",
      "      Number of created subproblems: 955\n",
      "  Error rc: 0\n",
      "  Time: 0.7225282192230225\n",
      "# ----------------------------------------------------------\n",
      "#   Solution Information\n",
      "# ----------------------------------------------------------\n",
      "Solution: \n",
      "- number of solutions: 0\n",
      "  number of solutions displayed: 0\n"
     ]
    }
   ],
   "source": [
    "results.write(num=1)"
   ]
  },
  {
   "cell_type": "markdown",
   "metadata": {},
   "source": [
    "### Pós-processamento"
   ]
  },
  {
   "cell_type": "code",
   "execution_count": 38,
   "metadata": {
    "ExecuteTime": {
     "end_time": "2021-11-24T13:08:36.269056Z",
     "start_time": "2021-11-24T13:08:36.256052Z"
    }
   },
   "outputs": [],
   "source": [
    "def resultados_dataframe(var, index, column_names, csv_file=None):\n",
    "    data = []\n",
    "    n = len(column_names)\n",
    "    for p in index:\n",
    "        row = {}\n",
    "        for i in range(n):\n",
    "            row[column_names[i].lower()] = p[i]\n",
    "        row[\"value\"] = var[p].value\n",
    "        data.append(row)\n",
    "    df = pd.DataFrame(data)\n",
    "    df.to_csv(\"resultados/\" + csv_file, index=False)\n",
    "    return df"
   ]
  },
  {
   "cell_type": "code",
   "execution_count": 39,
   "metadata": {
    "ExecuteTime": {
     "end_time": "2021-11-24T13:08:36.319053Z",
     "start_time": "2021-11-24T13:08:36.276052Z"
    }
   },
   "outputs": [
    {
     "data": {
      "text/html": [
       "<div>\n",
       "<style scoped>\n",
       "    .dataframe tbody tr th:only-of-type {\n",
       "        vertical-align: middle;\n",
       "    }\n",
       "\n",
       "    .dataframe tbody tr th {\n",
       "        vertical-align: top;\n",
       "    }\n",
       "\n",
       "    .dataframe thead th {\n",
       "        text-align: right;\n",
       "    }\n",
       "</style>\n",
       "<table border=\"1\" class=\"dataframe\">\n",
       "  <thead>\n",
       "    <tr style=\"text-align: right;\">\n",
       "      <th></th>\n",
       "      <th>loja</th>\n",
       "      <th>sku</th>\n",
       "      <th>value</th>\n",
       "    </tr>\n",
       "  </thead>\n",
       "  <tbody>\n",
       "    <tr>\n",
       "      <th>0</th>\n",
       "      <td>A</td>\n",
       "      <td>Mimmo Plus Suave</td>\n",
       "      <td>53.0</td>\n",
       "    </tr>\n",
       "    <tr>\n",
       "      <th>1</th>\n",
       "      <td>C</td>\n",
       "      <td>Mimmo Plus Suave</td>\n",
       "      <td>59.0</td>\n",
       "    </tr>\n",
       "    <tr>\n",
       "      <th>2</th>\n",
       "      <td>D</td>\n",
       "      <td>Mimmo Plus Suave</td>\n",
       "      <td>10.0</td>\n",
       "    </tr>\n",
       "    <tr>\n",
       "      <th>3</th>\n",
       "      <td>E</td>\n",
       "      <td>Mimmo Plus Suave</td>\n",
       "      <td>55.0</td>\n",
       "    </tr>\n",
       "    <tr>\n",
       "      <th>4</th>\n",
       "      <td>F</td>\n",
       "      <td>Mimmo Plus Suave</td>\n",
       "      <td>30.0</td>\n",
       "    </tr>\n",
       "    <tr>\n",
       "      <th>5</th>\n",
       "      <td>G</td>\n",
       "      <td>Mimmo Plus Suave</td>\n",
       "      <td>33.0</td>\n",
       "    </tr>\n",
       "    <tr>\n",
       "      <th>6</th>\n",
       "      <td>H</td>\n",
       "      <td>Mimmo Plus Suave</td>\n",
       "      <td>8.0</td>\n",
       "    </tr>\n",
       "    <tr>\n",
       "      <th>7</th>\n",
       "      <td>A</td>\n",
       "      <td>Report Premium</td>\n",
       "      <td>37.0</td>\n",
       "    </tr>\n",
       "    <tr>\n",
       "      <th>8</th>\n",
       "      <td>B</td>\n",
       "      <td>Report Premium</td>\n",
       "      <td>3.0</td>\n",
       "    </tr>\n",
       "    <tr>\n",
       "      <th>9</th>\n",
       "      <td>C</td>\n",
       "      <td>Report Premium</td>\n",
       "      <td>41.0</td>\n",
       "    </tr>\n",
       "    <tr>\n",
       "      <th>10</th>\n",
       "      <td>D</td>\n",
       "      <td>Report Premium</td>\n",
       "      <td>5.0</td>\n",
       "    </tr>\n",
       "    <tr>\n",
       "      <th>11</th>\n",
       "      <td>E</td>\n",
       "      <td>Report Premium</td>\n",
       "      <td>29.0</td>\n",
       "    </tr>\n",
       "    <tr>\n",
       "      <th>12</th>\n",
       "      <td>F</td>\n",
       "      <td>Report Premium</td>\n",
       "      <td>24.0</td>\n",
       "    </tr>\n",
       "    <tr>\n",
       "      <th>13</th>\n",
       "      <td>H</td>\n",
       "      <td>Report Premium</td>\n",
       "      <td>10.0</td>\n",
       "    </tr>\n",
       "  </tbody>\n",
       "</table>\n",
       "</div>"
      ],
      "text/plain": [
       "   loja               sku  value\n",
       "0     A  Mimmo Plus Suave   53.0\n",
       "1     C  Mimmo Plus Suave   59.0\n",
       "2     D  Mimmo Plus Suave   10.0\n",
       "3     E  Mimmo Plus Suave   55.0\n",
       "4     F  Mimmo Plus Suave   30.0\n",
       "5     G  Mimmo Plus Suave   33.0\n",
       "6     H  Mimmo Plus Suave    8.0\n",
       "7     A    Report Premium   37.0\n",
       "8     B    Report Premium    3.0\n",
       "9     C    Report Premium   41.0\n",
       "10    D    Report Premium    5.0\n",
       "11    E    Report Premium   29.0\n",
       "12    F    Report Premium   24.0\n",
       "13    H    Report Premium   10.0"
      ]
     },
     "execution_count": 39,
     "metadata": {},
     "output_type": "execute_result"
    }
   ],
   "source": [
    "df_qtd_sku = resultados_dataframe(\n",
    "    model.QTD_SKU,\n",
    "    index=model.loja_x_sku,\n",
    "    column_names=[\"LOJA\", \"SKU\"],\n",
    "    csv_file=\"QTD_SKU.csv\",\n",
    ")\n",
    "df_qtd_sku"
   ]
  },
  {
   "cell_type": "code",
   "execution_count": 40,
   "metadata": {
    "ExecuteTime": {
     "end_time": "2021-11-24T13:08:36.357052Z",
     "start_time": "2021-11-24T13:08:36.323052Z"
    }
   },
   "outputs": [
    {
     "data": {
      "text/html": [
       "<div>\n",
       "<style scoped>\n",
       "    .dataframe tbody tr th:only-of-type {\n",
       "        vertical-align: middle;\n",
       "    }\n",
       "\n",
       "    .dataframe tbody tr th {\n",
       "        vertical-align: top;\n",
       "    }\n",
       "\n",
       "    .dataframe thead th {\n",
       "        text-align: right;\n",
       "    }\n",
       "</style>\n",
       "<table border=\"1\" class=\"dataframe\">\n",
       "  <thead>\n",
       "    <tr style=\"text-align: right;\">\n",
       "      <th></th>\n",
       "      <th>loja</th>\n",
       "      <th>sku</th>\n",
       "      <th>value</th>\n",
       "    </tr>\n",
       "  </thead>\n",
       "  <tbody>\n",
       "    <tr>\n",
       "      <th>0</th>\n",
       "      <td>A</td>\n",
       "      <td>Mimmo Plus Suave</td>\n",
       "      <td>0.040</td>\n",
       "    </tr>\n",
       "    <tr>\n",
       "      <th>1</th>\n",
       "      <td>C</td>\n",
       "      <td>Mimmo Plus Suave</td>\n",
       "      <td>0.396</td>\n",
       "    </tr>\n",
       "    <tr>\n",
       "      <th>2</th>\n",
       "      <td>D</td>\n",
       "      <td>Mimmo Plus Suave</td>\n",
       "      <td>0.700</td>\n",
       "    </tr>\n",
       "    <tr>\n",
       "      <th>3</th>\n",
       "      <td>E</td>\n",
       "      <td>Mimmo Plus Suave</td>\n",
       "      <td>0.080</td>\n",
       "    </tr>\n",
       "    <tr>\n",
       "      <th>4</th>\n",
       "      <td>F</td>\n",
       "      <td>Mimmo Plus Suave</td>\n",
       "      <td>0.300</td>\n",
       "    </tr>\n",
       "    <tr>\n",
       "      <th>5</th>\n",
       "      <td>G</td>\n",
       "      <td>Mimmo Plus Suave</td>\n",
       "      <td>0.040</td>\n",
       "    </tr>\n",
       "    <tr>\n",
       "      <th>6</th>\n",
       "      <td>H</td>\n",
       "      <td>Mimmo Plus Suave</td>\n",
       "      <td>1.000</td>\n",
       "    </tr>\n",
       "    <tr>\n",
       "      <th>7</th>\n",
       "      <td>A</td>\n",
       "      <td>Report Premium</td>\n",
       "      <td>0.010</td>\n",
       "    </tr>\n",
       "    <tr>\n",
       "      <th>8</th>\n",
       "      <td>B</td>\n",
       "      <td>Report Premium</td>\n",
       "      <td>0.960</td>\n",
       "    </tr>\n",
       "    <tr>\n",
       "      <th>9</th>\n",
       "      <td>C</td>\n",
       "      <td>Report Premium</td>\n",
       "      <td>0.372</td>\n",
       "    </tr>\n",
       "    <tr>\n",
       "      <th>10</th>\n",
       "      <td>D</td>\n",
       "      <td>Report Premium</td>\n",
       "      <td>1.000</td>\n",
       "    </tr>\n",
       "    <tr>\n",
       "      <th>11</th>\n",
       "      <td>E</td>\n",
       "      <td>Report Premium</td>\n",
       "      <td>0.080</td>\n",
       "    </tr>\n",
       "    <tr>\n",
       "      <th>12</th>\n",
       "      <td>F</td>\n",
       "      <td>Report Premium</td>\n",
       "      <td>0.010</td>\n",
       "    </tr>\n",
       "    <tr>\n",
       "      <th>13</th>\n",
       "      <td>H</td>\n",
       "      <td>Report Premium</td>\n",
       "      <td>0.840</td>\n",
       "    </tr>\n",
       "  </tbody>\n",
       "</table>\n",
       "</div>"
      ],
      "text/plain": [
       "   loja               sku  value\n",
       "0     A  Mimmo Plus Suave  0.040\n",
       "1     C  Mimmo Plus Suave  0.396\n",
       "2     D  Mimmo Plus Suave  0.700\n",
       "3     E  Mimmo Plus Suave  0.080\n",
       "4     F  Mimmo Plus Suave  0.300\n",
       "5     G  Mimmo Plus Suave  0.040\n",
       "6     H  Mimmo Plus Suave  1.000\n",
       "7     A    Report Premium  0.010\n",
       "8     B    Report Premium  0.960\n",
       "9     C    Report Premium  0.372\n",
       "10    D    Report Premium  1.000\n",
       "11    E    Report Premium  0.080\n",
       "12    F    Report Premium  0.010\n",
       "13    H    Report Premium  0.840"
      ]
     },
     "execution_count": 40,
     "metadata": {},
     "output_type": "execute_result"
    }
   ],
   "source": [
    "df_ruptura = resultados_dataframe(\n",
    "    model.RUPTURA_SKU,\n",
    "    index=model.loja_x_sku,\n",
    "    column_names=[\"LOJA\", \"SKU\"],\n",
    "    csv_file=\"RUPTURA_SKU.csv\",\n",
    ")\n",
    "df_ruptura"
   ]
  },
  {
   "cell_type": "code",
   "execution_count": 41,
   "metadata": {
    "ExecuteTime": {
     "end_time": "2021-11-24T13:08:36.398122Z",
     "start_time": "2021-11-24T13:08:36.361054Z"
    }
   },
   "outputs": [
    {
     "data": {
      "text/html": [
       "<div>\n",
       "<style scoped>\n",
       "    .dataframe tbody tr th:only-of-type {\n",
       "        vertical-align: middle;\n",
       "    }\n",
       "\n",
       "    .dataframe tbody tr th {\n",
       "        vertical-align: top;\n",
       "    }\n",
       "\n",
       "    .dataframe thead th {\n",
       "        text-align: right;\n",
       "    }\n",
       "</style>\n",
       "<table border=\"1\" class=\"dataframe\">\n",
       "  <thead>\n",
       "    <tr style=\"text-align: right;\">\n",
       "      <th></th>\n",
       "      <th>loja</th>\n",
       "      <th>sku</th>\n",
       "      <th>value</th>\n",
       "    </tr>\n",
       "  </thead>\n",
       "  <tbody>\n",
       "    <tr>\n",
       "      <th>2</th>\n",
       "      <td>D</td>\n",
       "      <td>Mimmo Plus Suave</td>\n",
       "      <td>1.0</td>\n",
       "    </tr>\n",
       "    <tr>\n",
       "      <th>6</th>\n",
       "      <td>H</td>\n",
       "      <td>Mimmo Plus Suave</td>\n",
       "      <td>1.0</td>\n",
       "    </tr>\n",
       "    <tr>\n",
       "      <th>8</th>\n",
       "      <td>B</td>\n",
       "      <td>Report Premium</td>\n",
       "      <td>1.0</td>\n",
       "    </tr>\n",
       "    <tr>\n",
       "      <th>10</th>\n",
       "      <td>D</td>\n",
       "      <td>Report Premium</td>\n",
       "      <td>1.0</td>\n",
       "    </tr>\n",
       "    <tr>\n",
       "      <th>13</th>\n",
       "      <td>H</td>\n",
       "      <td>Report Premium</td>\n",
       "      <td>1.0</td>\n",
       "    </tr>\n",
       "  </tbody>\n",
       "</table>\n",
       "</div>"
      ],
      "text/plain": [
       "   loja               sku  value\n",
       "2     D  Mimmo Plus Suave    1.0\n",
       "6     H  Mimmo Plus Suave    1.0\n",
       "8     B    Report Premium    1.0\n",
       "10    D    Report Premium    1.0\n",
       "13    H    Report Premium    1.0"
      ]
     },
     "execution_count": 41,
     "metadata": {},
     "output_type": "execute_result"
    }
   ],
   "source": [
    "df_houve_ruptura_loja_sku = resultados_dataframe(\n",
    "    model.RUPTURA_LOJA_SKU,\n",
    "    index=model.loja_x_sku,\n",
    "    column_names=[\"LOJA\", \"SKU\"],\n",
    "    csv_file=\"RUPTURA_LOJA_SKU.csv\",\n",
    ")\n",
    "\n",
    "df_houve_ruptura_loja_sku.loc[\n",
    "    df_houve_ruptura_loja_sku.value==1\n",
    "]"
   ]
  },
  {
   "cell_type": "code",
   "execution_count": 42,
   "metadata": {
    "ExecuteTime": {
     "end_time": "2021-11-24T13:08:36.455121Z",
     "start_time": "2021-11-24T13:08:36.403123Z"
    }
   },
   "outputs": [
    {
     "data": {
      "text/html": [
       "<div>\n",
       "<style scoped>\n",
       "    .dataframe tbody tr th:only-of-type {\n",
       "        vertical-align: middle;\n",
       "    }\n",
       "\n",
       "    .dataframe tbody tr th {\n",
       "        vertical-align: top;\n",
       "    }\n",
       "\n",
       "    .dataframe thead th {\n",
       "        text-align: right;\n",
       "    }\n",
       "</style>\n",
       "<table border=\"1\" class=\"dataframe\">\n",
       "  <thead>\n",
       "    <tr style=\"text-align: right;\">\n",
       "      <th></th>\n",
       "      <th>loja</th>\n",
       "      <th>value</th>\n",
       "    </tr>\n",
       "  </thead>\n",
       "  <tbody>\n",
       "    <tr>\n",
       "      <th>1</th>\n",
       "      <td>B</td>\n",
       "      <td>1.0</td>\n",
       "    </tr>\n",
       "    <tr>\n",
       "      <th>3</th>\n",
       "      <td>D</td>\n",
       "      <td>1.0</td>\n",
       "    </tr>\n",
       "    <tr>\n",
       "      <th>7</th>\n",
       "      <td>H</td>\n",
       "      <td>1.0</td>\n",
       "    </tr>\n",
       "  </tbody>\n",
       "</table>\n",
       "</div>"
      ],
      "text/plain": [
       "  loja  value\n",
       "1    B    1.0\n",
       "3    D    1.0\n",
       "7    H    1.0"
      ]
     },
     "execution_count": 42,
     "metadata": {},
     "output_type": "execute_result"
    }
   ],
   "source": [
    "df_ruptura_loja = resultados_dataframe(\n",
    "    model.RUPTURA_LOJA,\n",
    "    index=model.lojas,\n",
    "    column_names=[\"LOJA\"],\n",
    "    csv_file=\"RUPTURA_LOJA.csv\",\n",
    ")\n",
    "df_ruptura_loja.loc[\n",
    "    df_ruptura_loja.value>0\n",
    "] "
   ]
  },
  {
   "cell_type": "code",
   "execution_count": 43,
   "metadata": {
    "ExecuteTime": {
     "end_time": "2021-11-24T13:08:36.502121Z",
     "start_time": "2021-11-24T13:08:36.459121Z"
    }
   },
   "outputs": [
    {
     "data": {
      "text/html": [
       "<div>\n",
       "<style scoped>\n",
       "    .dataframe tbody tr th:only-of-type {\n",
       "        vertical-align: middle;\n",
       "    }\n",
       "\n",
       "    .dataframe tbody tr th {\n",
       "        vertical-align: top;\n",
       "    }\n",
       "\n",
       "    .dataframe thead th {\n",
       "        text-align: right;\n",
       "    }\n",
       "</style>\n",
       "<table border=\"1\" class=\"dataframe\">\n",
       "  <thead>\n",
       "    <tr style=\"text-align: right;\">\n",
       "      <th></th>\n",
       "      <th>loja</th>\n",
       "      <th>sku</th>\n",
       "      <th>nivel_ruptura</th>\n",
       "      <th>value</th>\n",
       "    </tr>\n",
       "  </thead>\n",
       "  <tbody>\n",
       "    <tr>\n",
       "      <th>4</th>\n",
       "      <td>A</td>\n",
       "      <td>Mimmo Plus Suave</td>\n",
       "      <td>5</td>\n",
       "      <td>1.0</td>\n",
       "    </tr>\n",
       "    <tr>\n",
       "      <th>8</th>\n",
       "      <td>C</td>\n",
       "      <td>Mimmo Plus Suave</td>\n",
       "      <td>3</td>\n",
       "      <td>1.0</td>\n",
       "    </tr>\n",
       "    <tr>\n",
       "      <th>14</th>\n",
       "      <td>D</td>\n",
       "      <td>Mimmo Plus Suave</td>\n",
       "      <td>3</td>\n",
       "      <td>1.0</td>\n",
       "    </tr>\n",
       "    <tr>\n",
       "      <th>22</th>\n",
       "      <td>E</td>\n",
       "      <td>Mimmo Plus Suave</td>\n",
       "      <td>5</td>\n",
       "      <td>1.0</td>\n",
       "    </tr>\n",
       "    <tr>\n",
       "      <th>27</th>\n",
       "      <td>F</td>\n",
       "      <td>Mimmo Plus Suave</td>\n",
       "      <td>4</td>\n",
       "      <td>1.0</td>\n",
       "    </tr>\n",
       "    <tr>\n",
       "      <th>34</th>\n",
       "      <td>G</td>\n",
       "      <td>Mimmo Plus Suave</td>\n",
       "      <td>5</td>\n",
       "      <td>1.0</td>\n",
       "    </tr>\n",
       "    <tr>\n",
       "      <th>36</th>\n",
       "      <td>H</td>\n",
       "      <td>Mimmo Plus Suave</td>\n",
       "      <td>1</td>\n",
       "      <td>1.0</td>\n",
       "    </tr>\n",
       "    <tr>\n",
       "      <th>46</th>\n",
       "      <td>A</td>\n",
       "      <td>Report Premium</td>\n",
       "      <td>5</td>\n",
       "      <td>1.0</td>\n",
       "    </tr>\n",
       "    <tr>\n",
       "      <th>48</th>\n",
       "      <td>B</td>\n",
       "      <td>Report Premium</td>\n",
       "      <td>1</td>\n",
       "      <td>1.0</td>\n",
       "    </tr>\n",
       "    <tr>\n",
       "      <th>57</th>\n",
       "      <td>C</td>\n",
       "      <td>Report Premium</td>\n",
       "      <td>4</td>\n",
       "      <td>1.0</td>\n",
       "    </tr>\n",
       "    <tr>\n",
       "      <th>60</th>\n",
       "      <td>D</td>\n",
       "      <td>Report Premium</td>\n",
       "      <td>1</td>\n",
       "      <td>1.0</td>\n",
       "    </tr>\n",
       "    <tr>\n",
       "      <th>70</th>\n",
       "      <td>E</td>\n",
       "      <td>Report Premium</td>\n",
       "      <td>5</td>\n",
       "      <td>1.0</td>\n",
       "    </tr>\n",
       "    <tr>\n",
       "      <th>76</th>\n",
       "      <td>F</td>\n",
       "      <td>Report Premium</td>\n",
       "      <td>5</td>\n",
       "      <td>1.0</td>\n",
       "    </tr>\n",
       "    <tr>\n",
       "      <th>78</th>\n",
       "      <td>H</td>\n",
       "      <td>Report Premium</td>\n",
       "      <td>1</td>\n",
       "      <td>1.0</td>\n",
       "    </tr>\n",
       "  </tbody>\n",
       "</table>\n",
       "</div>"
      ],
      "text/plain": [
       "   loja               sku  nivel_ruptura  value\n",
       "4     A  Mimmo Plus Suave              5    1.0\n",
       "8     C  Mimmo Plus Suave              3    1.0\n",
       "14    D  Mimmo Plus Suave              3    1.0\n",
       "22    E  Mimmo Plus Suave              5    1.0\n",
       "27    F  Mimmo Plus Suave              4    1.0\n",
       "34    G  Mimmo Plus Suave              5    1.0\n",
       "36    H  Mimmo Plus Suave              1    1.0\n",
       "46    A    Report Premium              5    1.0\n",
       "48    B    Report Premium              1    1.0\n",
       "57    C    Report Premium              4    1.0\n",
       "60    D    Report Premium              1    1.0\n",
       "70    E    Report Premium              5    1.0\n",
       "76    F    Report Premium              5    1.0\n",
       "78    H    Report Premium              1    1.0"
      ]
     },
     "execution_count": 43,
     "metadata": {},
     "output_type": "execute_result"
    }
   ],
   "source": [
    "df_niveis_sku = resultados_dataframe(\n",
    "        model.NIVEL_SKU,\n",
    "    index=model.loja_x_sku_x_niveis_ruptura,\n",
    "    column_names=[\"LOJA\", \"SKU\", \"NIVEL_RUPTURA\"],\n",
    "    csv_file=\"NIVEL_SKU.csv\",\n",
    ")\n",
    "\n",
    "df_niveis_sku.loc[\n",
    "    df_niveis_sku.value > 0\n",
    "]"
   ]
  },
  {
   "cell_type": "code",
   "execution_count": 44,
   "metadata": {
    "ExecuteTime": {
     "end_time": "2021-11-24T13:08:36.552179Z",
     "start_time": "2021-11-24T13:08:36.505124Z"
    }
   },
   "outputs": [
    {
     "data": {
      "text/html": [
       "<div>\n",
       "<style scoped>\n",
       "    .dataframe tbody tr th:only-of-type {\n",
       "        vertical-align: middle;\n",
       "    }\n",
       "\n",
       "    .dataframe tbody tr th {\n",
       "        vertical-align: top;\n",
       "    }\n",
       "\n",
       "    .dataframe thead th {\n",
       "        text-align: right;\n",
       "    }\n",
       "</style>\n",
       "<table border=\"1\" class=\"dataframe\">\n",
       "  <thead>\n",
       "    <tr style=\"text-align: right;\">\n",
       "      <th></th>\n",
       "      <th>loja</th>\n",
       "      <th>sku</th>\n",
       "      <th>nivel_ruptura</th>\n",
       "      <th>value</th>\n",
       "    </tr>\n",
       "  </thead>\n",
       "  <tbody>\n",
       "    <tr>\n",
       "      <th>4</th>\n",
       "      <td>A</td>\n",
       "      <td>Mimmo Plus Suave</td>\n",
       "      <td>5</td>\n",
       "      <td>5.617296e-33</td>\n",
       "    </tr>\n",
       "    <tr>\n",
       "      <th>5</th>\n",
       "      <td>A</td>\n",
       "      <td>Mimmo Plus Suave</td>\n",
       "      <td>6</td>\n",
       "      <td>1.000000e+00</td>\n",
       "    </tr>\n",
       "    <tr>\n",
       "      <th>8</th>\n",
       "      <td>C</td>\n",
       "      <td>Mimmo Plus Suave</td>\n",
       "      <td>3</td>\n",
       "      <td>5.000000e-02</td>\n",
       "    </tr>\n",
       "    <tr>\n",
       "      <th>9</th>\n",
       "      <td>C</td>\n",
       "      <td>Mimmo Plus Suave</td>\n",
       "      <td>4</td>\n",
       "      <td>9.500000e-01</td>\n",
       "    </tr>\n",
       "    <tr>\n",
       "      <th>14</th>\n",
       "      <td>D</td>\n",
       "      <td>Mimmo Plus Suave</td>\n",
       "      <td>3</td>\n",
       "      <td>1.000000e+00</td>\n",
       "    </tr>\n",
       "    <tr>\n",
       "      <th>23</th>\n",
       "      <td>E</td>\n",
       "      <td>Mimmo Plus Suave</td>\n",
       "      <td>6</td>\n",
       "      <td>1.000000e+00</td>\n",
       "    </tr>\n",
       "    <tr>\n",
       "      <th>27</th>\n",
       "      <td>F</td>\n",
       "      <td>Mimmo Plus Suave</td>\n",
       "      <td>4</td>\n",
       "      <td>1.000000e+00</td>\n",
       "    </tr>\n",
       "    <tr>\n",
       "      <th>34</th>\n",
       "      <td>G</td>\n",
       "      <td>Mimmo Plus Suave</td>\n",
       "      <td>5</td>\n",
       "      <td>7.401487e-18</td>\n",
       "    </tr>\n",
       "    <tr>\n",
       "      <th>35</th>\n",
       "      <td>G</td>\n",
       "      <td>Mimmo Plus Suave</td>\n",
       "      <td>6</td>\n",
       "      <td>1.000000e+00</td>\n",
       "    </tr>\n",
       "    <tr>\n",
       "      <th>36</th>\n",
       "      <td>H</td>\n",
       "      <td>Mimmo Plus Suave</td>\n",
       "      <td>1</td>\n",
       "      <td>1.000000e+00</td>\n",
       "    </tr>\n",
       "    <tr>\n",
       "      <th>47</th>\n",
       "      <td>A</td>\n",
       "      <td>Report Premium</td>\n",
       "      <td>6</td>\n",
       "      <td>1.000000e+00</td>\n",
       "    </tr>\n",
       "    <tr>\n",
       "      <th>48</th>\n",
       "      <td>B</td>\n",
       "      <td>Report Premium</td>\n",
       "      <td>1</td>\n",
       "      <td>1.000000e+00</td>\n",
       "    </tr>\n",
       "    <tr>\n",
       "      <th>57</th>\n",
       "      <td>C</td>\n",
       "      <td>Report Premium</td>\n",
       "      <td>4</td>\n",
       "      <td>8.000000e-01</td>\n",
       "    </tr>\n",
       "    <tr>\n",
       "      <th>58</th>\n",
       "      <td>C</td>\n",
       "      <td>Report Premium</td>\n",
       "      <td>5</td>\n",
       "      <td>2.000000e-01</td>\n",
       "    </tr>\n",
       "    <tr>\n",
       "      <th>60</th>\n",
       "      <td>D</td>\n",
       "      <td>Report Premium</td>\n",
       "      <td>1</td>\n",
       "      <td>1.000000e+00</td>\n",
       "    </tr>\n",
       "    <tr>\n",
       "      <th>71</th>\n",
       "      <td>E</td>\n",
       "      <td>Report Premium</td>\n",
       "      <td>6</td>\n",
       "      <td>1.000000e+00</td>\n",
       "    </tr>\n",
       "    <tr>\n",
       "      <th>77</th>\n",
       "      <td>F</td>\n",
       "      <td>Report Premium</td>\n",
       "      <td>6</td>\n",
       "      <td>1.000000e+00</td>\n",
       "    </tr>\n",
       "    <tr>\n",
       "      <th>79</th>\n",
       "      <td>H</td>\n",
       "      <td>Report Premium</td>\n",
       "      <td>2</td>\n",
       "      <td>1.000000e+00</td>\n",
       "    </tr>\n",
       "  </tbody>\n",
       "</table>\n",
       "</div>"
      ],
      "text/plain": [
       "   loja               sku  nivel_ruptura         value\n",
       "4     A  Mimmo Plus Suave              5  5.617296e-33\n",
       "5     A  Mimmo Plus Suave              6  1.000000e+00\n",
       "8     C  Mimmo Plus Suave              3  5.000000e-02\n",
       "9     C  Mimmo Plus Suave              4  9.500000e-01\n",
       "14    D  Mimmo Plus Suave              3  1.000000e+00\n",
       "23    E  Mimmo Plus Suave              6  1.000000e+00\n",
       "27    F  Mimmo Plus Suave              4  1.000000e+00\n",
       "34    G  Mimmo Plus Suave              5  7.401487e-18\n",
       "35    G  Mimmo Plus Suave              6  1.000000e+00\n",
       "36    H  Mimmo Plus Suave              1  1.000000e+00\n",
       "47    A    Report Premium              6  1.000000e+00\n",
       "48    B    Report Premium              1  1.000000e+00\n",
       "57    C    Report Premium              4  8.000000e-01\n",
       "58    C    Report Premium              5  2.000000e-01\n",
       "60    D    Report Premium              1  1.000000e+00\n",
       "71    E    Report Premium              6  1.000000e+00\n",
       "77    F    Report Premium              6  1.000000e+00\n",
       "79    H    Report Premium              2  1.000000e+00"
      ]
     },
     "execution_count": 44,
     "metadata": {},
     "output_type": "execute_result"
    }
   ],
   "source": [
    "df_lambda = resultados_dataframe(\n",
    "    model.LAMBDA,\n",
    "    index=model.loja_x_sku_x_niveis_ruptura,\n",
    "    column_names=[\"LOJA\", \"SKU\", \"NIVEL_RUPTURA\"],\n",
    "    csv_file=\"LAMBDA.csv\",\n",
    ")\n",
    "\n",
    "df_lambda.loc[\n",
    "    df_lambda.value > 0\n",
    "]"
   ]
  },
  {
   "cell_type": "code",
   "execution_count": null,
   "metadata": {},
   "outputs": [],
   "source": []
  }
 ],
 "metadata": {
  "kernelspec": {
   "display_name": "Python 3",
   "language": "python",
   "name": "python3"
  },
  "language_info": {
   "codemirror_mode": {
    "name": "ipython",
    "version": 3
   },
   "file_extension": ".py",
   "mimetype": "text/x-python",
   "name": "python",
   "nbconvert_exporter": "python",
   "pygments_lexer": "ipython3",
   "version": "3.7.3"
  },
  "metadata": {
   "interpreter": {
    "hash": "9d1e87607973c08e456da6332dafe5c4202aff181d1af9132836b25fda18203b"
   }
  },
  "toc": {
   "base_numbering": 1,
   "nav_menu": {},
   "number_sections": true,
   "sideBar": true,
   "skip_h1_title": false,
   "title_cell": "Table of Contents",
   "title_sidebar": "Contents",
   "toc_cell": false,
   "toc_position": {},
   "toc_section_display": true,
   "toc_window_display": false
  },
  "varInspector": {
   "cols": {
    "lenName": 16,
    "lenType": 16,
    "lenVar": 40
   },
   "kernels_config": {
    "python": {
     "delete_cmd_postfix": "",
     "delete_cmd_prefix": "del ",
     "library": "var_list.py",
     "varRefreshCmd": "print(var_dic_list())"
    },
    "r": {
     "delete_cmd_postfix": ") ",
     "delete_cmd_prefix": "rm(",
     "library": "var_list.r",
     "varRefreshCmd": "cat(var_dic_list()) "
    }
   },
   "types_to_exclude": [
    "module",
    "function",
    "builtin_function_or_method",
    "instance",
    "_Feature"
   ],
   "window_display": false
  }
 },
 "nbformat": 4,
 "nbformat_minor": 4
}
